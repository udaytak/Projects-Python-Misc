{
 "cells": [
  {
   "cell_type": "code",
   "execution_count": 1,
   "metadata": {},
   "outputs": [],
   "source": [
    "import cv2\n",
    "import sys"
   ]
  },
  {
   "cell_type": "code",
   "execution_count": 2,
   "metadata": {},
   "outputs": [
    {
     "data": {
      "text/plain": [
       "array([[127, 121, 122],\n",
       "       [122, 116, 117],\n",
       "       [125, 119, 120],\n",
       "       ...,\n",
       "       [140, 144, 145],\n",
       "       [139, 143, 144],\n",
       "       [133, 137, 138]], dtype=uint8)"
      ]
     },
     "execution_count": 2,
     "metadata": {},
     "output_type": "execute_result"
    }
   ],
   "source": [
    "image = cv2.imread(r\".\\Source\\pp.jpg\")\n",
    "image[1]"
   ]
  },
  {
   "cell_type": "code",
   "execution_count": 3,
   "metadata": {},
   "outputs": [
    {
     "data": {
      "text/plain": [
       "array([[126, 120, 123, ..., 144, 142, 136],\n",
       "       [122, 117, 120, ..., 144, 143, 137],\n",
       "       [117, 110, 113, ..., 142, 144, 138],\n",
       "       ...,\n",
       "       [ 60,  64,  56, ..., 126, 125, 123],\n",
       "       [ 66,  59,  48, ..., 129, 125, 122],\n",
       "       [ 61,  51,  42, ..., 133, 128, 123]], dtype=uint8)"
      ]
     },
     "execution_count": 3,
     "metadata": {},
     "output_type": "execute_result"
    }
   ],
   "source": [
    "grayimage = cv2.cvtColor(image, cv2.COLOR_BGR2GRAY)\n",
    "grayimage"
   ]
  },
  {
   "cell_type": "code",
   "execution_count": 4,
   "metadata": {},
   "outputs": [
    {
     "data": {
      "text/plain": [
       "array([[129, 135, 132, ..., 111, 113, 119],\n",
       "       [133, 138, 135, ..., 111, 112, 118],\n",
       "       [138, 145, 142, ..., 113, 111, 117],\n",
       "       ...,\n",
       "       [195, 191, 199, ..., 129, 130, 132],\n",
       "       [189, 196, 207, ..., 126, 130, 133],\n",
       "       [194, 204, 213, ..., 122, 127, 132]], dtype=uint8)"
      ]
     },
     "execution_count": 4,
     "metadata": {},
     "output_type": "execute_result"
    }
   ],
   "source": [
    "grayimageinv = 255 - grayimage\n",
    "grayimageinv"
   ]
  },
  {
   "cell_type": "code",
   "execution_count": 5,
   "metadata": {},
   "outputs": [
    {
     "data": {
      "text/plain": [
       "array([[140, 140, 140, ..., 114, 113, 113],\n",
       "       [140, 140, 140, ..., 114, 114, 114],\n",
       "       [140, 140, 140, ..., 114, 114, 114],\n",
       "       ...,\n",
       "       [196, 196, 196, ..., 128, 128, 128],\n",
       "       [196, 196, 196, ..., 128, 128, 128],\n",
       "       [196, 196, 196, ..., 128, 128, 128]], dtype=uint8)"
      ]
     },
     "execution_count": 5,
     "metadata": {},
     "output_type": "execute_result"
    }
   ],
   "source": [
    "grayimageinv = cv2.GaussianBlur(grayimageinv, (21,21),0)\n",
    "grayimageinv"
   ]
  },
  {
   "cell_type": "code",
   "execution_count": 6,
   "metadata": {},
   "outputs": [
    {
     "data": {
      "text/plain": [
       "array([[255, 255, 255, ..., 255, 255, 245],\n",
       "       [255, 255, 255, ..., 255, 255, 249],\n",
       "       [255, 245, 252, ..., 255, 255, 251],\n",
       "       ...,\n",
       "       [255, 255, 243, ..., 254, 252, 248],\n",
       "       [255, 255, 208, ..., 255, 252, 246],\n",
       "       [255, 221, 182, ..., 255, 255, 248]], dtype=uint8)"
      ]
     },
     "execution_count": 6,
     "metadata": {},
     "output_type": "execute_result"
    }
   ],
   "source": [
    "output = cv2.divide(grayimage, 255 - grayimageinv, scale = 256.0)\n",
    "output"
   ]
  },
  {
   "cell_type": "code",
   "execution_count": 7,
   "metadata": {},
   "outputs": [],
   "source": [
    "cv2.namedWindow(\"image\",cv2.WINDOW_AUTOSIZE)"
   ]
  },
  {
   "cell_type": "code",
   "execution_count": 8,
   "metadata": {},
   "outputs": [],
   "source": [
    "cv2.imshow(\"image\", image)"
   ]
  },
  {
   "cell_type": "code",
   "execution_count": 9,
   "metadata": {},
   "outputs": [],
   "source": [
    "cv2.imshow(\"pencilsketch\", output)"
   ]
  },
  {
   "cell_type": "code",
   "execution_count": null,
   "metadata": {},
   "outputs": [],
   "source": [
    "cv2.imwrite('pencilesketch.jpg', im, [cv2.IMWRITE_JPEG_QUALITY, 50])"
   ]
  },
  {
   "cell_type": "code",
   "execution_count": 10,
   "metadata": {},
   "outputs": [
    {
     "data": {
      "text/plain": [
       "-1"
      ]
     },
     "execution_count": 10,
     "metadata": {},
     "output_type": "execute_result"
    }
   ],
   "source": [
    "cv2.waitKey(0)"
   ]
  },
  {
   "cell_type": "code",
   "execution_count": 11,
   "metadata": {},
   "outputs": [],
   "source": [
    "cv2.destroyAllWindows()"
   ]
  },
  {
   "cell_type": "code",
   "execution_count": null,
   "metadata": {},
   "outputs": [],
   "source": []
  }
 ],
 "metadata": {
  "kernelspec": {
   "display_name": "Python 3",
   "language": "python",
   "name": "python3"
  },
  "language_info": {
   "codemirror_mode": {
    "name": "ipython",
    "version": 3
   },
   "file_extension": ".py",
   "mimetype": "text/x-python",
   "name": "python",
   "nbconvert_exporter": "python",
   "pygments_lexer": "ipython3",
   "version": "3.6.4"
  }
 },
 "nbformat": 4,
 "nbformat_minor": 2
}
