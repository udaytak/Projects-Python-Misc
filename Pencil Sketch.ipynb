{
 "cells": [
  {
   "cell_type": "code",
   "execution_count": 1,
   "metadata": {},
   "outputs": [],
   "source": [
    "import cv2\n",
    "import sys"
   ]
  },
  {
   "cell_type": "code",
   "execution_count": 2,
   "metadata": {},
   "outputs": [
    {
     "data": {
      "text/plain": [
       "array([[228, 228, 228],\n",
       "       [228, 228, 228],\n",
       "       [228, 228, 228],\n",
       "       ...,\n",
       "       [217, 222, 225],\n",
       "       [218, 223, 226],\n",
       "       [218, 223, 226]], dtype=uint8)"
      ]
     },
     "execution_count": 2,
     "metadata": {},
     "output_type": "execute_result"
    }
   ],
   "source": [
    "image = cv2.imread(r\".\\Source\\pp.jpg\")\n",
    "image[1]"
   ]
  },
  {
   "cell_type": "code",
   "execution_count": 3,
   "metadata": {},
   "outputs": [
    {
     "data": {
      "text/plain": [
       "array([[228, 228, 228, ..., 222, 223, 223],\n",
       "       [228, 228, 228, ..., 222, 223, 223],\n",
       "       [228, 228, 228, ..., 222, 223, 223],\n",
       "       ...,\n",
       "       [220, 220, 220, ..., 232, 232, 232],\n",
       "       [220, 220, 220, ..., 232, 232, 232],\n",
       "       [220, 220, 220, ..., 232, 232, 232]], dtype=uint8)"
      ]
     },
     "execution_count": 3,
     "metadata": {},
     "output_type": "execute_result"
    }
   ],
   "source": [
    "grayimage = cv2.cvtColor(image, cv2.COLOR_BGR2GRAY)\n",
    "grayimage"
   ]
  },
  {
   "cell_type": "code",
   "execution_count": 4,
   "metadata": {},
   "outputs": [
    {
     "data": {
      "text/plain": [
       "array([[27, 27, 27, ..., 33, 32, 32],\n",
       "       [27, 27, 27, ..., 33, 32, 32],\n",
       "       [27, 27, 27, ..., 33, 32, 32],\n",
       "       ...,\n",
       "       [35, 35, 35, ..., 23, 23, 23],\n",
       "       [35, 35, 35, ..., 23, 23, 23],\n",
       "       [35, 35, 35, ..., 23, 23, 23]], dtype=uint8)"
      ]
     },
     "execution_count": 4,
     "metadata": {},
     "output_type": "execute_result"
    }
   ],
   "source": [
    "grayimageinv = 255 - grayimage\n",
    "grayimageinv"
   ]
  },
  {
   "cell_type": "code",
   "execution_count": 5,
   "metadata": {},
   "outputs": [
    {
     "data": {
      "text/plain": [
       "array([[27, 27, 27, ..., 33, 33, 33],\n",
       "       [28, 28, 28, ..., 33, 33, 33],\n",
       "       [28, 28, 28, ..., 33, 33, 33],\n",
       "       ...,\n",
       "       [35, 35, 35, ..., 23, 23, 23],\n",
       "       [35, 35, 35, ..., 23, 23, 23],\n",
       "       [35, 35, 35, ..., 23, 23, 23]], dtype=uint8)"
      ]
     },
     "execution_count": 5,
     "metadata": {},
     "output_type": "execute_result"
    }
   ],
   "source": [
    "grayimageinv = cv2.GaussianBlur(grayimageinv, (21,21),0)\n",
    "grayimageinv"
   ]
  },
  {
   "cell_type": "code",
   "execution_count": 6,
   "metadata": {},
   "outputs": [
    {
     "data": {
      "text/plain": [
       "array([[255, 255, 255, ..., 255, 255, 255],\n",
       "       [255, 255, 255, ..., 255, 255, 255],\n",
       "       [255, 255, 255, ..., 255, 255, 255],\n",
       "       ...,\n",
       "       [255, 255, 255, ..., 255, 255, 255],\n",
       "       [255, 255, 255, ..., 255, 255, 255],\n",
       "       [255, 255, 255, ..., 255, 255, 255]], dtype=uint8)"
      ]
     },
     "execution_count": 6,
     "metadata": {},
     "output_type": "execute_result"
    }
   ],
   "source": [
    "output = cv2.divide(grayimage, 255 - grayimageinv, scale = 256.0)\n",
    "output"
   ]
  },
  {
   "cell_type": "code",
   "execution_count": 7,
   "metadata": {},
   "outputs": [],
   "source": [
    "cv2.namedWindow(\"image\",cv2.WINDOW_AUTOSIZE)"
   ]
  },
  {
   "cell_type": "code",
   "execution_count": 8,
   "metadata": {},
   "outputs": [],
   "source": [
    "cv2.imshow(\"image\", image)"
   ]
  },
  {
   "cell_type": "code",
   "execution_count": 9,
   "metadata": {},
   "outputs": [],
   "source": [
    "cv2.imshow(\"pencilsketch\", output)"
   ]
  },
  {
   "cell_type": "code",
   "execution_count": 10,
   "metadata": {},
   "outputs": [],
   "source": [
    "#cv2.imwrite('pencilesketch.jpg',r\".\\Source\\pp.jpg\")"
   ]
  },
  {
   "cell_type": "code",
   "execution_count": 11,
   "metadata": {},
   "outputs": [
    {
     "data": {
      "text/plain": [
       "-1"
      ]
     },
     "execution_count": 11,
     "metadata": {},
     "output_type": "execute_result"
    }
   ],
   "source": [
    "cv2.waitKey(0)"
   ]
  },
  {
   "cell_type": "code",
   "execution_count": 12,
   "metadata": {},
   "outputs": [],
   "source": [
    "cv2.destroyAllWindows()"
   ]
  },
  {
   "cell_type": "code",
   "execution_count": null,
   "metadata": {},
   "outputs": [],
   "source": []
  }
 ],
 "metadata": {
  "kernelspec": {
   "display_name": "Python 3",
   "language": "python",
   "name": "python3"
  },
  "language_info": {
   "codemirror_mode": {
    "name": "ipython",
    "version": 3
   },
   "file_extension": ".py",
   "mimetype": "text/x-python",
   "name": "python",
   "nbconvert_exporter": "python",
   "pygments_lexer": "ipython3",
   "version": "3.6.4"
  }
 },
 "nbformat": 4,
 "nbformat_minor": 2
}
